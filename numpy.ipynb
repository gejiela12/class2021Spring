{
  "nbformat": 4,
  "nbformat_minor": 0,
  "metadata": {
    "colab": {
      "name": "numpy.ipynb",
      "provenance": [],
      "collapsed_sections": [],
      "authorship_tag": "ABX9TyM6bbSO+C2VS4xck2oH1nhb",
      "include_colab_link": true
    },
    "kernelspec": {
      "name": "python3",
      "display_name": "Python 3"
    },
    "language_info": {
      "name": "python"
    }
  },
  "cells": [
    {
      "cell_type": "markdown",
      "metadata": {
        "id": "view-in-github",
        "colab_type": "text"
      },
      "source": [
        "<a href=\"https://colab.research.google.com/github/gejiela12/class2021Spring/blob/main/numpy.ipynb\" target=\"_parent\"><img src=\"https://colab.research.google.com/assets/colab-badge.svg\" alt=\"Open In Colab\"/></a>"
      ]
    },
    {
      "cell_type": "markdown",
      "metadata": {
        "id": "L_XmO2PknhOb"
      },
      "source": [
        "Numpy basics"
      ]
    },
    {
      "cell_type": "code",
      "metadata": {
        "id": "MBb4K49enfvh"
      },
      "source": [
        "import numpy as np #numpy를 np로 줄여서 하자고 하는 것\n",
        "import matplotlib.pyplot as plt #matplotlib에 있는 pyplot 모듈을 plt로 하자고 하는 것"
      ],
      "execution_count": 14,
      "outputs": []
    },
    {
      "cell_type": "code",
      "metadata": {
        "colab": {
          "base_uri": "https://localhost:8080/"
        },
        "id": "8a6mzBibobgh",
        "outputId": "1d0d0b04-8eb5-4c8e-c9d3-b30a20f815c2"
      },
      "source": [
        "np.empty([2,3],dtype='int') # 잘 안씀"
      ],
      "execution_count": 15,
      "outputs": [
        {
          "output_type": "execute_result",
          "data": {
            "text/plain": [
              "array([[94713869558528,              0,              0],\n",
              "       [             0,              0,              0]])"
            ]
          },
          "metadata": {
            "tags": []
          },
          "execution_count": 15
        }
      ]
    },
    {
      "cell_type": "code",
      "metadata": {
        "colab": {
          "base_uri": "https://localhost:8080/"
        },
        "id": "-z1Eduhzp2nh",
        "outputId": "432aea92-b318-4984-bc76-8511d4c13354"
      },
      "source": [
        "np.zeros([2,3])"
      ],
      "execution_count": 16,
      "outputs": [
        {
          "output_type": "execute_result",
          "data": {
            "text/plain": [
              "array([[0., 0., 0.],\n",
              "       [0., 0., 0.]])"
            ]
          },
          "metadata": {
            "tags": []
          },
          "execution_count": 16
        }
      ]
    },
    {
      "cell_type": "code",
      "metadata": {
        "colab": {
          "base_uri": "https://localhost:8080/"
        },
        "id": "NUQ5le9NpDgA",
        "outputId": "1254ff55-11dd-4ac3-f0d2-8300084bd8e7"
      },
      "source": [
        "np.arange(0,10,2,dtype='float64') #많이 씀 #행렬"
      ],
      "execution_count": 8,
      "outputs": [
        {
          "output_type": "execute_result",
          "data": {
            "text/plain": [
              "array([0., 2., 4., 6., 8.])"
            ]
          },
          "metadata": {
            "tags": []
          },
          "execution_count": 8
        }
      ]
    },
    {
      "cell_type": "code",
      "metadata": {
        "colab": {
          "base_uri": "https://localhost:8080/"
        },
        "id": "5oC0Tl7Rpi3T",
        "outputId": "9e21258b-72ff-4470-c8a9-86470569f69e"
      },
      "source": [
        "np.linspace(0,10,6, dtype=float) #linear space (a부터 b까지에서 c개수만큼 쪼개라)"
      ],
      "execution_count": 18,
      "outputs": [
        {
          "output_type": "execute_result",
          "data": {
            "text/plain": [
              "array([ 0.,  2.,  4.,  6.,  8., 10.])"
            ]
          },
          "metadata": {
            "tags": []
          },
          "execution_count": 18
        }
      ]
    },
    {
      "cell_type": "code",
      "metadata": {
        "id": "cz84Ec4ZqahD"
      },
      "source": [
        "# vector는 행렬인데, 가로나 세로로 길쭉한 행렬 위에 두 개는 벡터행렬"
      ],
      "execution_count": 19,
      "outputs": []
    },
    {
      "cell_type": "code",
      "metadata": {
        "colab": {
          "base_uri": "https://localhost:8080/"
        },
        "id": "nVOlof1ErQgl",
        "outputId": "699c53c3-857e-4ab8-8c21-86166134ff15"
      },
      "source": [
        "x = np.array([[1,2,3],[4,5,6]])  # array 행령\n",
        "x"
      ],
      "execution_count": 20,
      "outputs": [
        {
          "output_type": "execute_result",
          "data": {
            "text/plain": [
              "array([[1, 2, 3],\n",
              "       [4, 5, 6]])"
            ]
          },
          "metadata": {
            "tags": []
          },
          "execution_count": 20
        }
      ]
    },
    {
      "cell_type": "code",
      "metadata": {
        "id": "CRMjn6fergVu"
      },
      "source": [
        "# 3,2 만들려면\n",
        "# 1. [   ,   ,   ]\n",
        "# 2. [[  ,  ],[  ,  ],[  ,  ],]"
      ],
      "execution_count": 21,
      "outputs": []
    },
    {
      "cell_type": "code",
      "metadata": {
        "colab": {
          "base_uri": "https://localhost:8080/"
        },
        "id": "oHJNNuQEsBJW",
        "outputId": "f87d5538-a841-4fc6-f439-4d46539236a1"
      },
      "source": [
        "x.astype(np.float64)"
      ],
      "execution_count": 23,
      "outputs": [
        {
          "output_type": "execute_result",
          "data": {
            "text/plain": [
              "array([[1., 2., 3.],\n",
              "       [4., 5., 6.]])"
            ]
          },
          "metadata": {
            "tags": []
          },
          "execution_count": 23
        }
      ]
    },
    {
      "cell_type": "code",
      "metadata": {
        "colab": {
          "base_uri": "https://localhost:8080/"
        },
        "id": "7xvSqrSGsVlM",
        "outputId": "5fe486bb-ecdb-4a63-9b68-76f00b3c2903"
      },
      "source": [
        "np.zeros_like(x)"
      ],
      "execution_count": 25,
      "outputs": [
        {
          "output_type": "execute_result",
          "data": {
            "text/plain": [
              "array([[0, 0, 0],\n",
              "       [0, 0, 0]])"
            ]
          },
          "metadata": {
            "tags": []
          },
          "execution_count": 25
        }
      ]
    },
    {
      "cell_type": "code",
      "metadata": {
        "id": "9UjQJOWBsdW2"
      },
      "source": [
        "np.random.normal(0,1,100)"
      ],
      "execution_count": null,
      "outputs": []
    },
    {
      "cell_type": "code",
      "metadata": {
        "colab": {
          "base_uri": "https://localhost:8080/",
          "height": 265
        },
        "id": "fqpGTtGStQZy",
        "outputId": "4330ef90-8d86-46d0-a6fc-056fb76b1a5b"
      },
      "source": [
        "data = np.random.normal(1,1,100)\n",
        "#print(data)\n",
        "plt.hist(data,bins=10)    # bin갯수 조정하기\n",
        "plt.show()"
      ],
      "execution_count": 32,
      "outputs": [
        {
          "output_type": "display_data",
          "data": {
            "image/png": "[encoded data removed]",
            "text/plain": [
              "<Figure size 432x288 with 1 Axes>"
            ]
          },
          "metadata": {
            "tags": [],
            "needs_background": "light"
          }
        }
      ]
    },
    {
      "cell_type": "code",
      "metadata": {
        "colab": {
          "base_uri": "https://localhost:8080/",
          "height": 265
        },
        "id": "cJUT-SyatEhl",
        "outputId": "75fbf6d0-ab5c-434b-d6bd-2c140a9595a9"
      },
      "source": [
        "data = np.random.normal(1,1,100)\n",
        "#print(data)\n",
        "plt.hist(data,bins=100)\n",
        "plt.show()"
      ],
      "execution_count": 35,
      "outputs": [
        {
          "output_type": "display_data",
          "data": {
            "image/png": "[encoded data removed]",
            "text/plain": [
              "<Figure size 432x288 with 1 Axes>"
            ]
          },
          "metadata": {
            "tags": [],
            "needs_background": "light"
          }
        }
      ]
    },
    {
      "cell_type": "code",
      "metadata": {
        "colab": {
          "base_uri": "https://localhost:8080/",
          "height": 265
        },
        "id": "ahIgbMUXuBfy",
        "outputId": "0d66259d-ef8a-4a65-f00e-af8c489d846a"
      },
      "source": [
        "data = np.random.normal(1,1,10000000)\n",
        "#print(data)\n",
        "plt.hist(data,bins=100)\n",
        "plt.show()"
      ],
      "execution_count": 36,
      "outputs": [
        {
          "output_type": "display_data",
          "data": {
            "image/png": "[encoded data removed]",
            "text/plain": [
              "<Figure size 432x288 with 1 Axes>"
            ]
          },
          "metadata": {
            "tags": [],
            "needs_background": "light"
          }
        }
      ]
    },
    {
      "cell_type": "markdown",
      "metadata": {
        "id": "427cPqigvhhp"
      },
      "source": [
        "2.manipulaton"
      ]
    },
    {
      "cell_type": "code",
      "metadata": {
        "colab": {
          "base_uri": "https://localhost:8080/"
        },
        "id": "IwJcWXMMvkal",
        "outputId": "dda3c0b0-57ed-4966-c778-d5039d4ae3c1"
      },
      "source": [
        "x = np.ones([2,3,4])\n",
        "x \n",
        "# 1. [             ]\n",
        "# 2. [[     ],[     ]]\n",
        "# 3. [[[],[],[]],[[],[],[]]]\n",
        "# 4. [[]]"
      ],
      "execution_count": 37,
      "outputs": [
        {
          "output_type": "execute_result",
          "data": {
            "text/plain": [
              "array([[[1., 1., 1., 1.],\n",
              "        [1., 1., 1., 1.],\n",
              "        [1., 1., 1., 1.]],\n",
              "\n",
              "       [[1., 1., 1., 1.],\n",
              "        [1., 1., 1., 1.],\n",
              "        [1., 1., 1., 1.]]])"
            ]
          },
          "metadata": {
            "tags": []
          },
          "execution_count": 37
        }
      ]
    },
    {
      "cell_type": "code",
      "metadata": {
        "colab": {
          "base_uri": "https://localhost:8080/"
        },
        "id": "XPRZ3Ra9vqJL",
        "outputId": "6c4ad3b3-860e-4a02-cea3-09754c0583b3"
      },
      "source": [
        "y = x.reshape(-1, 3, 2)  # -1은 결국 4와 같은 것 (왜냐면 위에 있는 2,3,4 = 24이고 -1은 파이썬에서 알아서 맞춰주는 것)\n",
        "y"
      ],
      "execution_count": 38,
      "outputs": [
        {
          "output_type": "execute_result",
          "data": {
            "text/plain": [
              "array([[[1., 1.],\n",
              "        [1., 1.],\n",
              "        [1., 1.]],\n",
              "\n",
              "       [[1., 1.],\n",
              "        [1., 1.],\n",
              "        [1., 1.]],\n",
              "\n",
              "       [[1., 1.],\n",
              "        [1., 1.],\n",
              "        [1., 1.]],\n",
              "\n",
              "       [[1., 1.],\n",
              "        [1., 1.],\n",
              "        [1., 1.]]])"
            ]
          },
          "metadata": {
            "tags": []
          },
          "execution_count": 38
        }
      ]
    },
    {
      "cell_type": "code",
      "metadata": {
        "id": "3bM9w4DvwjB3"
      },
      "source": [
        "#tensor? matrix?"
      ],
      "execution_count": 39,
      "outputs": []
    },
    {
      "cell_type": "markdown",
      "metadata": {
        "id": "9FI4oDm7xkAP"
      },
      "source": [
        "3번 스킵\n",
        "* #4. Inspecting"
      ]
    },
    {
      "cell_type": "code",
      "metadata": {
        "colab": {
          "base_uri": "https://localhost:8080/"
        },
        "id": "yeUn8fxhxrf1",
        "outputId": "8352bed6-4c71-4a9f-aa78-3ed1aa5498e1"
      },
      "source": [
        "arr = np.random.random([5,2,3])\n",
        "arr"
      ],
      "execution_count": 46,
      "outputs": [
        {
          "output_type": "execute_result",
          "data": {
            "text/plain": [
              "array([[[0.04596011, 0.83762163, 0.06095238],\n",
              "        [0.65133432, 0.80504157, 0.32294502]],\n",
              "\n",
              "       [[0.09645207, 0.92578017, 0.7411485 ],\n",
              "        [0.25896208, 0.23503283, 0.75866869]],\n",
              "\n",
              "       [[0.61660095, 0.24116414, 0.19088619],\n",
              "        [0.11642413, 0.61308723, 0.06695093]],\n",
              "\n",
              "       [[0.42323663, 0.430617  , 0.74205589],\n",
              "        [0.83921083, 0.52986675, 0.07178511]],\n",
              "\n",
              "       [[0.22789885, 0.40912897, 0.89227713],\n",
              "        [0.69805645, 0.73005339, 0.83755738]]])"
            ]
          },
          "metadata": {
            "tags": []
          },
          "execution_count": 46
        }
      ]
    },
    {
      "cell_type": "code",
      "metadata": {
        "colab": {
          "base_uri": "https://localhost:8080/"
        },
        "id": "vBSKgu3uyWcl",
        "outputId": "5d62ad17-e8fd-45bd-e44e-0035fa8c447c"
      },
      "source": [
        "a = 1\n",
        "print(type(a))"
      ],
      "execution_count": 41,
      "outputs": [
        {
          "output_type": "stream",
          "text": [
            "<class 'int'>\n"
          ],
          "name": "stdout"
        }
      ]
    },
    {
      "cell_type": "code",
      "metadata": {
        "id": "Cx-LGbEtyZoF"
      },
      "source": [
        "str = 'test'\n",
        "print(type(str))"
      ],
      "execution_count": null,
      "outputs": []
    },
    {
      "cell_type": "code",
      "metadata": {
        "colab": {
          "base_uri": "https://localhost:8080/"
        },
        "id": "SgqF87oiyt_I",
        "outputId": "aaf3bb14-69b6-4fd7-d432-f901964984dd"
      },
      "source": [
        "print(type(arr)) \n",
        "print(len(arr)) # \n",
        "print(arr.shape) # \n",
        "print(arr.ndim) # 차원\n",
        "print(arr.size) # 안에 숫자 개수\n",
        "print(arr.dtype)"
      ],
      "execution_count": 49,
      "outputs": [
        {
          "output_type": "stream",
          "text": [
            "<class 'numpy.ndarray'>\n",
            "5\n",
            "(5, 2, 3)\n",
            "3\n",
            "30\n",
            "float64\n"
          ],
          "name": "stdout"
        }
      ]
    },
    {
      "cell_type": "code",
      "metadata": {
        "id": "waj5Mf7szuZr"
      },
      "source": [
        "5.1 Arithmetic"
      ],
      "execution_count": null,
      "outputs": []
    },
    {
      "cell_type": "code",
      "metadata": {
        "colab": {
          "base_uri": "https://localhost:8080/"
        },
        "id": "MBrvwL7lzwgJ",
        "outputId": "62068909-5b9c-4769-9ac0-fcf5492b0dc4"
      },
      "source": [
        "a = np.arange(1,5)  # 교수님은 소숫점으로 나옴\n",
        "b = np.arange(9,5,-1)\n",
        "a"
      ],
      "execution_count": 52,
      "outputs": [
        {
          "output_type": "execute_result",
          "data": {
            "text/plain": [
              "array([1, 2, 3, 4])"
            ]
          },
          "metadata": {
            "tags": []
          },
          "execution_count": 52
        }
      ]
    },
    {
      "cell_type": "code",
      "metadata": {
        "colab": {
          "base_uri": "https://localhost:8080/"
        },
        "id": "lYIm7cUt0ALb",
        "outputId": "70f7e7a3-45e8-4f17-bb5a-7086e7d77eef"
      },
      "source": [
        "print(a -b)\n",
        "print(a * b) # 가짜 매트릭스?  1,3 와 3,1과 같이 앞횡렬(종렬)과 뒤 횡렬(종렬)같아야만 곱할 수 있음"
      ],
      "execution_count": 54,
      "outputs": [
        {
          "output_type": "stream",
          "text": [
            "[-8 -6 -4 -2]\n",
            "[ 9 16 21 24]\n"
          ],
          "name": "stdout"
        }
      ]
    },
    {
      "cell_type": "markdown",
      "metadata": {
        "id": "2alOPeif13bx"
      },
      "source": [
        ""
      ]
    },
    {
      "cell_type": "code",
      "metadata": {
        "id": "cCmo0ajq0qWy"
      },
      "source": [
        "a = np.matrix(a)\n",
        "b = np.matrix(b)"
      ],
      "execution_count": 56,
      "outputs": []
    },
    {
      "cell_type": "code",
      "metadata": {
        "colab": {
          "base_uri": "https://localhost:8080/"
        },
        "id": "ytY1nrh801pd",
        "outputId": "e3f9a028-ae5d-4a04-e440-0bc7a375d1e9"
      },
      "source": [
        "a * b.T # 그냥 b랑은 곱하지 못하지만 T를 붙여 변환해줌 "
      ],
      "execution_count": 58,
      "outputs": [
        {
          "output_type": "execute_result",
          "data": {
            "text/plain": [
              "matrix([[70]])"
            ]
          },
          "metadata": {
            "tags": []
          },
          "execution_count": 58
        }
      ]
    },
    {
      "cell_type": "markdown",
      "metadata": {
        "id": "FQxkGiAk173X"
      },
      "source": [
        "Aggregate(sum,min,max,mean,median,std)"
      ]
    },
    {
      "cell_type": "code",
      "metadata": {
        "id": "-Ga1pgPQ1-c9"
      },
      "source": [
        "# axis 한축으로만\n",
        "# "
      ],
      "execution_count": 60,
      "outputs": []
    },
    {
      "cell_type": "code",
      "metadata": {
        "id": "q7x5e_x43qis"
      },
      "source": [
        "# 행렬의 곱은 차원이 같아야 함! "
      ],
      "execution_count": null,
      "outputs": []
    }
  ]
}