{
  "nbformat": 4,
  "nbformat_minor": 0,
  "metadata": {
    "colab": {
      "name": "기본 용어 정리1.ipynb",
      "provenance": [],
      "collapsed_sections": [],
      "authorship_tag": "ABX9TyNJTsRQjQvbyv7zmpswUrx6",
      "include_colab_link": true
    },
    "kernelspec": {
      "name": "python3",
      "display_name": "Python 3"
    }
  },
  "cells": [
    {
      "cell_type": "markdown",
      "metadata": {
        "id": "view-in-github",
        "colab_type": "text"
      },
      "source": [
        "<a href=\"https://colab.research.google.com/github/gejiela12/class2021Spring/blob/main/%EA%B8%B0%EB%B3%B8_%EC%9A%A9%EC%96%B4_%EC%A0%95%EB%A6%AC1.ipynb\" target=\"_parent\"><img src=\"https://colab.research.google.com/assets/colab-badge.svg\" alt=\"Open In Colab\"/></a>"
      ]
    },
    {
      "cell_type": "markdown",
      "metadata": {
        "id": "76soiX5bYE26"
      },
      "source": [
        "# **기본 용어**\r\n",
        "\r\n",
        "프롬프트(prompt）对话框   \r\n",
        "셀(cell) 输入框  \r\n",
        "atomic value 최소 가치(더 이상 나눠질 수 없는)  \r\n",
        "data type  \r\n",
        "* 문자열(str)  \r\n",
        "* 실수(float)  \r\n",
        "* 정수(int)  \r\n",
        "* 논리값(True;False)  \r\n",
        "* 변수 \r\n",
        "\r\n",
        "# **산술연산자**  \r\n",
        "  \r\n",
        "\r\n",
        "* 같기 a = b\r\n",
        "* 더하기 a + b  \r\n",
        "* 빼기 a - b  \r\n",
        "* 나누기 a / b  \r\n",
        "* 곱하기 a * b  \r\n",
        "* 거듭제곱 a ** b  \r\n",
        "* **나머지 a % b** \r\n",
        "* **몫 a // b**  \r\n",
        "\r\n",
        "\r\n",
        "# **주석문**\r\n",
        "\r\n",
        "#  \"#\"  \r\n",
        "  \r\n",
        "# **함수**  \r\n",
        "  \r\n",
        "# **치환문**  \r\n",
        "  \r\n",
        "ex) X = 2  \r\n",
        "ex) c, d = 3, 4  \r\n",
        "ex) x = y = z = 0  \r\n",
        "ex) e = 10 ; f = 20;\r\n",
        "  \r\n",
        "## 확장 치환문  \r\n",
        "a += 4 -> a = a + 4  \r\n",
        "a -= 4 -> a = a - 4  \r\n",
        "a *= 3 -> a = a * 3  \r\n",
        "a /= 3 -> a = a / 3\r\n",
        "  \r\n",
        "  \r\n",
        "# **함수 type**  \r\n",
        "  \r\n",
        "str  \r\n",
        "int  \r\n",
        "flaot  \r\n",
        "list  \r\n",
        "  \r\n",
        "# **관계(비교)연산자**  \r\n",
        "  \r\n",
        "* == 값은 값인가?  \r\n",
        "* != 값이 같지 않은가?  \r\n",
        "* > 큰가?  \r\n",
        "* >= 크거나 같은가?  \r\n",
        "* < 작은가?  \r\n",
        "* <= 작거나 같은가?  \r\n",
        "### 관계/비교 연산의 출력 결과는 True/False  \r\n",
        "ex)type('python')==str  \r\n",
        "  True  \r\n",
        "\r\n",
        "# **논리 연산자**  \r\n",
        "* not true -> False  \r\n",
        "* not false -> True  \r\n",
        "* True and True -> True  \r\n",
        "* True and False -> False  \r\n",
        "* False and False -> False  \r\n",
        "* True or True -> True  \r\n",
        "* False or True -> True  \r\n",
        "* False or False -> False \r\n"
      ]
    },
    {
      "cell_type": "code",
      "metadata": {
        "colab": {
          "base_uri": "https://localhost:8080/"
        },
        "id": "sFUiVGZOf5kj",
        "outputId": "afd49745-3d16-4e71-f480-d6e0db6c7d5d"
      },
      "source": [
        "False or True"
      ],
      "execution_count": 2,
      "outputs": [
        {
          "output_type": "execute_result",
          "data": {
            "text/plain": [
              "True"
            ]
          },
          "metadata": {
            "tags": []
          },
          "execution_count": 2
        }
      ]
    },
    {
      "cell_type": "code",
      "metadata": {
        "colab": {
          "base_uri": "https://localhost:8080/"
        },
        "id": "P6ozxIyDf8r4",
        "outputId": "9c8653e0-47d1-4b59-c3a6-328dd537a833"
      },
      "source": [
        "True or False"
      ],
      "execution_count": 3,
      "outputs": [
        {
          "output_type": "execute_result",
          "data": {
            "text/plain": [
              "True"
            ]
          },
          "metadata": {
            "tags": []
          },
          "execution_count": 3
        }
      ]
    }
  ]
}