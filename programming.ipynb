{
  "nbformat": 4,
  "nbformat_minor": 0,
  "metadata": {
    "colab": {
      "name": "programming.ipynb",
      "provenance": [],
      "authorship_tag": "ABX9TyOa+iVxehjdxY65fetd/yDD",
      "include_colab_link": true
    },
    "kernelspec": {
      "name": "python3",
      "display_name": "Python 3"
    }
  },
  "cells": [
    {
      "cell_type": "markdown",
      "metadata": {
        "id": "view-in-github",
        "colab_type": "text"
      },
      "source": [
        "<a href=\"https://colab.research.google.com/github/gejiela12/class2021Spring/blob/main/programming.ipynb\" target=\"_parent\"><img src=\"https://colab.research.google.com/assets/colab-badge.svg\" alt=\"Open In Colab\"/></a>"
      ]
    },
    {
      "cell_type": "code",
      "metadata": {
        "id": "lDUIcDIeigTI"
      },
      "source": [
        ""
      ],
      "execution_count": null,
      "outputs": []
    },
    {
      "cell_type": "markdown",
      "metadata": {
        "id": "hG6pmSWMjSVb"
      },
      "source": [
        "# 프로그래밍 언어\r\n",
        "언어 + 문법\r\n",
        "\r\n",
        "# a = 1 -> '='는 assign\r\n",
        "\r\n",
        "* a = 1\r\n",
        "* b = 2\r\n",
        "* c = 'love'\r\n",
        "* 변수 내용\r\n",
        "\r\n",
        "# 문법 = 제어문 \r\n",
        "\r\n",
        "1. 반복: for\r\n",
        "* for 100 하면 백번 반복\r\n",
        "2. 조건: if\r\n",
        "* 조건 형성\r\n",
        "\r\n",
        "# 함수(function)\r\n",
        "입출력 관계에서\r\n",
        "\r\n",
        "* 입력  ---- (변화) ----> 출력\r\n",
        "* y = f(x)\r\n",
        " 출력 = 함수(입력)\r\n",
        "* ex) y=ax+b (1차 함수)\r\n",
        "* ex) function add (a.b)\r\n",
        "   c = a + b\r\n",
        "   c\r\n",
        "\r\n",
        "\r\n",
        "\r\n"
      ]
    }
  ]
}