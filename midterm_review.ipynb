{
  "nbformat": 4,
  "nbformat_minor": 0,
  "metadata": {
    "colab": {
      "name": "midterm_review.ipynb",
      "provenance": [],
      "collapsed_sections": [],
      "authorship_tag": "ABX9TyN2npB5qxfJ7MlI8oAvf+LI",
      "include_colab_link": true
    },
    "kernelspec": {
      "name": "python3",
      "display_name": "Python 3"
    },
    "language_info": {
      "name": "python"
    }
  },
  "cells": [
    {
      "cell_type": "markdown",
      "metadata": {
        "id": "view-in-github",
        "colab_type": "text"
      },
      "source": [
        "<a href=\"https://colab.research.google.com/github/gejiela12/class2021Spring/blob/main/midterm_review.ipynb\" target=\"_parent\"><img src=\"https://colab.research.google.com/assets/colab-badge.svg\" alt=\"Open In Colab\"/></a>"
      ]
    },
    {
      "cell_type": "code",
      "metadata": {
        "colab": {
          "base_uri": "https://localhost:8080/"
        },
        "id": "WUTunO9JVcSl",
        "outputId": "e19b4455-f4bc-46d0-e27f-5582cc65747d"
      },
      "source": [
        "a = [[1],[2,3],[4,5,6]]\n",
        "n = 0 \n",
        "for b in a: \n",
        "  for d in b:\n",
        "    n +=1\n",
        "  print(n)"
      ],
      "execution_count": 1,
      "outputs": [
        {
          "output_type": "stream",
          "text": [
            "1\n",
            "3\n",
            "6\n"
          ],
          "name": "stdout"
        }
      ]
    },
    {
      "cell_type": "code",
      "metadata": {
        "colab": {
          "base_uri": "https://localhost:8080/"
        },
        "id": "NR99zDPPV9Bu",
        "outputId": "0b2a28ae-1868-4f84-e658-166898f14ecf"
      },
      "source": [
        "a = [[1],[2,3],[4,5,6]]\n",
        "n = 0 \n",
        "for b in a: \n",
        "  for d in b:\n",
        "    n +=1\n",
        "print(n)"
      ],
      "execution_count": 2,
      "outputs": [
        {
          "output_type": "stream",
          "text": [
            "6\n"
          ],
          "name": "stdout"
        }
      ]
    },
    {
      "cell_type": "code",
      "metadata": {
        "colab": {
          "base_uri": "https://localhost:8080/"
        },
        "id": "AAIM8DmLd6Us",
        "outputId": "ed47a13f-f9f9-424d-cfee-8e1a1b4aed7e"
      },
      "source": [
        "a = [[1],[2,3],[4,5,6]]\n",
        "n = 0 \n",
        "for b in a: \n",
        "  n +=1\n",
        "  print(n)"
      ],
      "execution_count": 5,
      "outputs": [
        {
          "output_type": "stream",
          "text": [
            "1\n",
            "2\n",
            "3\n"
          ],
          "name": "stdout"
        }
      ]
    },
    {
      "cell_type": "code",
      "metadata": {
        "colab": {
          "base_uri": "https://localhost:8080/"
        },
        "id": "XRGkoZWzeXIY",
        "outputId": "bfd6fed8-99fe-4dcc-a9ee-f1e8832ba492"
      },
      "source": [
        "n = 0\n",
        "for b in a :\n",
        "  for d in b:\n",
        "    n+=1\n",
        "    print(n)\n",
        "  print('\\t')"
      ],
      "execution_count": 7,
      "outputs": [
        {
          "output_type": "stream",
          "text": [
            "1\n",
            "\t\n",
            "2\n",
            "3\n",
            "\t\n",
            "4\n",
            "5\n",
            "6\n",
            "\t\n"
          ],
          "name": "stdout"
        }
      ]
    },
    {
      "cell_type": "code",
      "metadata": {
        "colab": {
          "base_uri": "https://localhost:8080/"
        },
        "id": "J4LfCKDCesK4",
        "outputId": "4134bef4-d47e-4fcf-c80e-87c6f31fb246"
      },
      "source": [
        "n = 0 \n",
        "for b in a: \n",
        "  for d in b:\n",
        "    n +=1\n",
        "    print(d)"
      ],
      "execution_count": 8,
      "outputs": [
        {
          "output_type": "stream",
          "text": [
            "1\n",
            "2\n",
            "3\n",
            "4\n",
            "5\n",
            "6\n"
          ],
          "name": "stdout"
        }
      ]
    },
    {
      "cell_type": "code",
      "metadata": {
        "colab": {
          "base_uri": "https://localhost:8080/"
        },
        "id": "AQ0edPl2flA-",
        "outputId": "f3d39ae2-aad3-4438-c74b-32e24deb28da"
      },
      "source": [
        "n = 0 \n",
        "for b in a: \n",
        "  print(b)"
      ],
      "execution_count": 9,
      "outputs": [
        {
          "output_type": "stream",
          "text": [
            "[1]\n",
            "[2, 3]\n",
            "[4, 5, 6]\n"
          ],
          "name": "stdout"
        }
      ]
    },
    {
      "cell_type": "code",
      "metadata": {
        "colab": {
          "base_uri": "https://localhost:8080/"
        },
        "id": "52_pZER2fxRu",
        "outputId": "70ff769e-02af-4dbf-efbc-628241713e39"
      },
      "source": [
        "n = 0 \n",
        "for b in a: \n",
        "  for d in b:\n",
        "    n +=2\n",
        "  print(n)"
      ],
      "execution_count": 11,
      "outputs": [
        {
          "output_type": "stream",
          "text": [
            "2\n",
            "6\n",
            "12\n"
          ],
          "name": "stdout"
        }
      ]
    },
    {
      "cell_type": "code",
      "metadata": {
        "colab": {
          "base_uri": "https://localhost:8080/"
        },
        "id": "dYgo5JWJgxbX",
        "outputId": "345c1627-6d18-4c42-d32e-c8ff2547393e"
      },
      "source": [
        "m = [1,2,3,4]\n",
        "for i in range(len(m)):\n",
        "  print(i)"
      ],
      "execution_count": 13,
      "outputs": [
        {
          "output_type": "stream",
          "text": [
            "0\n",
            "1\n",
            "2\n",
            "3\n"
          ],
          "name": "stdout"
        }
      ]
    },
    {
      "cell_type": "code",
      "metadata": {
        "colab": {
          "base_uri": "https://localhost:8080/"
        },
        "id": "4-e_utAejNl8",
        "outputId": "ebb2da74-4d43-4b5a-81a3-d56411dd33c1"
      },
      "source": [
        "a = list(range(10))\n",
        "a"
      ],
      "execution_count": 15,
      "outputs": [
        {
          "output_type": "execute_result",
          "data": {
            "text/plain": [
              "[0, 1, 2, 3, 4, 5, 6, 7, 8, 9]"
            ]
          },
          "metadata": {
            "tags": []
          },
          "execution_count": 15
        }
      ]
    },
    {
      "cell_type": "code",
      "metadata": {
        "colab": {
          "base_uri": "https://localhost:8080/"
        },
        "id": "hiXkuxaItASW",
        "outputId": "9721c5c5-8b93-4054-b97a-a5fd0891ea61"
      },
      "source": [
        "b = [1,'a',{'a':[3,6],'b':[9]},'b']\n",
        "print(b[-2]['b'][-1])"
      ],
      "execution_count": 16,
      "outputs": [
        {
          "output_type": "stream",
          "text": [
            "9\n"
          ],
          "name": "stdout"
        }
      ]
    },
    {
      "cell_type": "code",
      "metadata": {
        "colab": {
          "base_uri": "https://localhost:8080/"
        },
        "id": "bjnL9ahEjulQ",
        "outputId": "7f869e28-628a-4b09-d940-b8d9ded7ac43"
      },
      "source": [
        "c = [1,'a',{'a':'abc','b':'def'}]\n",
        "print(c[-1]['b'][-2])"
      ],
      "execution_count": 18,
      "outputs": [
        {
          "output_type": "stream",
          "text": [
            "e\n"
          ],
          "name": "stdout"
        }
      ]
    },
    {
      "cell_type": "code",
      "metadata": {
        "colab": {
          "base_uri": "https://localhost:8080/"
        },
        "id": "MyWqHkcZtWoA",
        "outputId": "b73eef5c-d460-420f-ae29-c511dc39ff7a"
      },
      "source": [
        "d = ['th','s']\n",
        "print('i'.join(d)[-3])"
      ],
      "execution_count": 19,
      "outputs": [
        {
          "output_type": "stream",
          "text": [
            "h\n"
          ],
          "name": "stdout"
        }
      ]
    },
    {
      "cell_type": "code",
      "metadata": {
        "colab": {
          "base_uri": "https://localhost:8080/"
        },
        "id": "Ar_7xxlMte8c",
        "outputId": "c95d656b-27b1-4f9a-9c00-3b09c04e56f8"
      },
      "source": [
        "e = [1,1.2,'k',[1,[2],{'a','apple'}]] # {'a','apple'}은 set\n",
        "for x in e:\n",
        "  if type(x) == 'dict':\n",
        "    print(x)\n",
        "  else:\n",
        "    if x =='k':\n",
        "      print(x)"
      ],
      "execution_count": 20,
      "outputs": [
        {
          "output_type": "stream",
          "text": [
            "k\n"
          ],
          "name": "stdout"
        }
      ]
    },
    {
      "cell_type": "code",
      "metadata": {
        "id": "QBFqlL7Itwka"
      },
      "source": [
        "t = 0\n",
        "for p in range(3):\n",
        "  if p <= 1:\n",
        "    for q in range(4):\n",
        "      t +=q\n",
        "    for r in range(2):\n",
        "      t +=r\n",
        "print(t*r)"
      ],
      "execution_count": null,
      "outputs": []
    },
    {
      "cell_type": "code",
      "metadata": {
        "colab": {
          "base_uri": "https://localhost:8080/"
        },
        "id": "Tv3ohshPv1I8",
        "outputId": "35ac477a-3ae6-4d0a-85dc-8d4faf41455c"
      },
      "source": [
        "a = [1, 2, 3, 4]\n",
        "if len(a) == 3:\n",
        "  print(0)\n",
        "else:\n",
        "  print(1)"
      ],
      "execution_count": 23,
      "outputs": [
        {
          "output_type": "stream",
          "text": [
            "1\n"
          ],
          "name": "stdout"
        }
      ]
    },
    {
      "cell_type": "code",
      "metadata": {
        "colab": {
          "base_uri": "https://localhost:8080/"
        },
        "id": "sVcFGY5SwHMG",
        "outputId": "e00c879b-1d2d-479d-d830-0415369d2b36"
      },
      "source": [
        "a = (5.2,{1:'apple','k':4.9},(9.1,[10,12.1]))\n",
        "print(int(a[2][-1][0]))"
      ],
      "execution_count": 24,
      "outputs": [
        {
          "output_type": "stream",
          "text": [
            "10\n"
          ],
          "name": "stdout"
        }
      ]
    },
    {
      "cell_type": "code",
      "metadata": {
        "colab": {
          "base_uri": "https://localhost:8080/",
          "height": 133
        },
        "id": "MzyyOYx6wWqm",
        "outputId": "48b1b140-be5c-4f5a-8ccd-a388815b97b6"
      },
      "source": [
        "def joinstr:\n",
        "  return ''.join('str')"
      ],
      "execution_count": 25,
      "outputs": [
        {
          "output_type": "error",
          "ename": "SyntaxError",
          "evalue": "ignored",
          "traceback": [
            "\u001b[0;36m  File \u001b[0;32m\"<ipython-input-25-e688f67767b6>\"\u001b[0;36m, line \u001b[0;32m1\u001b[0m\n\u001b[0;31m    def joinstr:\u001b[0m\n\u001b[0m               ^\u001b[0m\n\u001b[0;31mSyntaxError\u001b[0m\u001b[0;31m:\u001b[0m invalid syntax\n"
          ]
        }
      ]
    },
    {
      "cell_type": "code",
      "metadata": {
        "id": "itxldZof2RUC"
      },
      "source": [
        "a = ['a','b','2']\n",
        "def str(a):\n",
        "  return astring"
      ],
      "execution_count": 30,
      "outputs": []
    },
    {
      "cell_type": "code",
      "metadata": {
        "id": "mwPTWeLC2m8o"
      },
      "source": [
        "def add(a,b):\n",
        "  return a+b"
      ],
      "execution_count": 28,
      "outputs": []
    },
    {
      "cell_type": "code",
      "metadata": {
        "id": "Rclo72Q42xaj"
      },
      "source": [
        ""
      ],
      "execution_count": null,
      "outputs": []
    }
  ]
}