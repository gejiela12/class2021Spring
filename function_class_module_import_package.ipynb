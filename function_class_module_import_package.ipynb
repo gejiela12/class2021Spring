{
  "nbformat": 4,
  "nbformat_minor": 0,
  "metadata": {
    "colab": {
      "name": "function/class/module/import/package.ipynb",
      "provenance": [],
      "authorship_tag": "ABX9TyNUuTvlo/+FWbg36l8+c+uD",
      "include_colab_link": true
    },
    "kernelspec": {
      "name": "python3",
      "display_name": "Python 3"
    },
    "language_info": {
      "name": "python"
    }
  },
  "cells": [
    {
      "cell_type": "markdown",
      "metadata": {
        "id": "view-in-github",
        "colab_type": "text"
      },
      "source": [
        "<a href=\"https://colab.research.google.com/github/gejiela12/class2021Spring/blob/main/function_class_module_import_package.ipynb\" target=\"_parent\"><img src=\"https://colab.research.google.com/assets/colab-badge.svg\" alt=\"Open In Colab\"/></a>"
      ]
    },
    {
      "cell_type": "code",
      "metadata": {
        "id": "d_zAgXzjT5FP"
      },
      "source": [
        "def add(a.b):    # f(a,b) = a+b\n",
        "  return a+b\n",
        "\n",
        "           # def func1(x)\n",
        "             a= 1 b=2\n",
        "             y = ax + b\n",
        "             return y \n",
        "           # def func1(x,a,b)\n",
        "             y = ax + b\n",
        "             return y"
      ],
      "execution_count": null,
      "outputs": []
    },
    {
      "cell_type": "code",
      "metadata": {
        "id": "gHucwl_PU7UD"
      },
      "source": [
        "def add(a,b):\n",
        "  return a+b\n",
        "\n",
        "def substract(a,b):\n",
        "  return a-b\n",
        "\n",
        "def multiply(a,b):\n",
        "  return a*b\n",
        "\n",
        "def divide(a,b):\n",
        "  return a/b\n",
        "  "
      ],
      "execution_count": 10,
      "outputs": []
    },
    {
      "cell_type": "code",
      "metadata": {
        "colab": {
          "base_uri": "https://localhost:8080/"
        },
        "id": "yWBetLWvWAoq",
        "outputId": "e94925ab-bdab-4fb0-e53d-ddb0d1a991e4"
      },
      "source": [
        "c= add(1,2); print(c)"
      ],
      "execution_count": 11,
      "outputs": [
        {
          "output_type": "stream",
          "text": [
            "3\n"
          ],
          "name": "stdout"
        }
      ]
    },
    {
      "cell_type": "code",
      "metadata": {
        "colab": {
          "base_uri": "https://localhost:8080/",
          "height": 174
        },
        "id": "0H8J9EAwV07s",
        "outputId": "318bfb8f-4449-45bb-81a6-e427c0e2f274"
      },
      "source": [
        "add(); print(c)"
      ],
      "execution_count": 14,
      "outputs": [
        {
          "output_type": "error",
          "ename": "TypeError",
          "evalue": "ignored",
          "traceback": [
            "\u001b[0;31m---------------------------------------------------------------------------\u001b[0m",
            "\u001b[0;31mTypeError\u001b[0m                                 Traceback (most recent call last)",
            "\u001b[0;32m<ipython-input-14-b9af5b8bb4e8>\u001b[0m in \u001b[0;36m<module>\u001b[0;34m()\u001b[0m\n\u001b[0;32m----> 1\u001b[0;31m \u001b[0madd\u001b[0m\u001b[0;34m(\u001b[0m\u001b[0;34m)\u001b[0m\u001b[0;34m;\u001b[0m \u001b[0mprint\u001b[0m\u001b[0;34m(\u001b[0m\u001b[0mc\u001b[0m\u001b[0;34m)\u001b[0m\u001b[0;34m\u001b[0m\u001b[0;34m\u001b[0m\u001b[0m\n\u001b[0m",
            "\u001b[0;31mTypeError\u001b[0m: add() missing 2 required positional arguments: 'a' and 'b'"
          ]
        }
      ]
    },
    {
      "cell_type": "code",
      "metadata": {
        "colab": {
          "base_uri": "https://localhost:8080/"
        },
        "id": "nUOwkLPjWbAf",
        "outputId": "f0e170e0-64d5-4852-e1f2-684493a8032a"
      },
      "source": [
        "result = add(1,2); print(result)\n",
        "type(result)"
      ],
      "execution_count": 15,
      "outputs": [
        {
          "output_type": "stream",
          "text": [
            "3\n"
          ],
          "name": "stdout"
        },
        {
          "output_type": "execute_result",
          "data": {
            "text/plain": [
              "int"
            ]
          },
          "metadata": {
            "tags": []
          },
          "execution_count": 15
        }
      ]
    },
    {
      "cell_type": "markdown",
      "metadata": {
        "id": "IkOlTvXFaeuo"
      },
      "source": [
        "# **클래스\n",
        "# object oriented program"
      ]
    },
    {
      "cell_type": "code",
      "metadata": {
        "id": "BwC-JJwjahZv"
      },
      "source": [
        "class cal: \n",
        "  def __init__(self):\n",
        "    self.result = 0\n",
        "  def add(self, n):\n",
        "    self.result +=n\n",
        "    return self.result\n",
        "  "
      ],
      "execution_count": 16,
      "outputs": []
    },
    {
      "cell_type": "code",
      "metadata": {
        "colab": {
          "base_uri": "https://localhost:8080/"
        },
        "id": "3IDeMOUDcRMN",
        "outputId": "fe599f8d-666e-49f0-bdf9-f33834e88086"
      },
      "source": [
        "A = cal()\n",
        "A.result"
      ],
      "execution_count": 18,
      "outputs": [
        {
          "output_type": "execute_result",
          "data": {
            "text/plain": [
              "0"
            ]
          },
          "metadata": {
            "tags": []
          },
          "execution_count": 18
        }
      ]
    },
    {
      "cell_type": "code",
      "metadata": {
        "colab": {
          "base_uri": "https://localhost:8080/"
        },
        "id": "xHbocWpIcgx5",
        "outputId": "82fcbd97-30f7-4336-9f55-92d6237e048d"
      },
      "source": [
        "A.add(4)\n"
      ],
      "execution_count": 19,
      "outputs": [
        {
          "output_type": "execute_result",
          "data": {
            "text/plain": [
              "4"
            ]
          },
          "metadata": {
            "tags": []
          },
          "execution_count": 19
        }
      ]
    },
    {
      "cell_type": "code",
      "metadata": {
        "colab": {
          "base_uri": "https://localhost:8080/"
        },
        "id": "tLIN_7JWdG63",
        "outputId": "0eb27d09-56fa-4554-bb3b-dccaa0de8821"
      },
      "source": [
        "A.add(6)"
      ],
      "execution_count": 20,
      "outputs": [
        {
          "output_type": "execute_result",
          "data": {
            "text/plain": [
              "10"
            ]
          },
          "metadata": {
            "tags": []
          },
          "execution_count": 20
        }
      ]
    },
    {
      "cell_type": "code",
      "metadata": {
        "id": "r13CHmmrdKKC"
      },
      "source": [
        "B = cal()"
      ],
      "execution_count": 21,
      "outputs": []
    },
    {
      "cell_type": "code",
      "metadata": {
        "colab": {
          "base_uri": "https://localhost:8080/"
        },
        "id": "da2cjC2Hddbp",
        "outputId": "f3dff364-2120-4c6a-a3c0-db4d276d9bc4"
      },
      "source": [
        "B.result"
      ],
      "execution_count": 22,
      "outputs": [
        {
          "output_type": "execute_result",
          "data": {
            "text/plain": [
              "0"
            ]
          },
          "metadata": {
            "tags": []
          },
          "execution_count": 22
        }
      ]
    },
    {
      "cell_type": "code",
      "metadata": {
        "colab": {
          "base_uri": "https://localhost:8080/"
        },
        "id": "qhYAwbO6dh7C",
        "outputId": "62430ed9-334d-459c-faef-67a129375af9"
      },
      "source": [
        "B.add(5)"
      ],
      "execution_count": 23,
      "outputs": [
        {
          "output_type": "execute_result",
          "data": {
            "text/plain": [
              "5"
            ]
          },
          "metadata": {
            "tags": []
          },
          "execution_count": 23
        }
      ]
    },
    {
      "cell_type": "markdown",
      "metadata": {
        "id": "5CavhdTmekUw"
      },
      "source": [
        "# module\n",
        "* 무듈이란 함수나 변수 클래스를 모아놓은 파일이다."
      ]
    },
    {
      "cell_type": "markdown",
      "metadata": {
        "id": "3qsQDs53gsYu"
      },
      "source": [
        "# import\n",
        "* ??"
      ]
    },
    {
      "cell_type": "code",
      "metadata": {
        "colab": {
          "base_uri": "https://localhost:8080/"
        },
        "id": "z8oDE93Le3DE",
        "outputId": "a3f81068-ab1c-436f-857e-05fb1c98ad59"
      },
      "source": [
        "import numpy as np\n",
        "n = np.random.randn(100)\n",
        "n"
      ],
      "execution_count": 25,
      "outputs": [
        {
          "output_type": "execute_result",
          "data": {
            "text/plain": [
              "array([ 1.06361598, -2.93591784, -0.51270496, -1.28233577,  1.75644774,\n",
              "        0.42903447, -0.51386021, -1.2586477 ,  0.88274685,  0.44186157,\n",
              "       -0.0155862 ,  1.39132596,  0.64251191, -1.22044477, -0.30045986,\n",
              "       -0.66222831,  0.53957295, -0.56722257,  0.02070112, -0.99638048,\n",
              "        0.41787668, -0.45530946, -1.73214969, -0.85667258, -0.0484409 ,\n",
              "       -1.31560701,  0.75112238, -0.32690661,  1.22499778,  0.32986403,\n",
              "        1.23208407,  1.71037861,  2.30481633,  1.09028442,  2.15948821,\n",
              "        0.24574796,  2.58499988, -0.14053265, -2.29721441,  1.47757099,\n",
              "        0.04710154,  0.52754687,  0.99357709, -1.48007278,  1.26984522,\n",
              "        0.18888296, -0.97794002, -0.73725467, -1.00089002, -1.35155896,\n",
              "       -0.60221608,  0.26584796,  0.08263544, -1.56042091,  0.4370583 ,\n",
              "       -0.85099787,  0.03483497, -0.12778196, -1.017438  ,  1.40100833,\n",
              "       -1.11249445, -1.02010557,  1.11094823, -0.96009856, -0.42292747,\n",
              "       -2.25211962, -0.84705692, -2.05330592,  0.8211916 , -0.85734613,\n",
              "       -0.67398008, -0.02094828,  0.95802885,  0.07959658, -0.85040441,\n",
              "       -0.78303044, -0.39740517,  0.41861476,  0.35776415,  1.2711956 ,\n",
              "       -0.43152997, -0.56049489, -0.25740414, -0.2620966 , -1.1121713 ,\n",
              "        0.22300003, -1.13647252,  1.61077893, -0.43755705,  0.40048567,\n",
              "        0.51340129,  1.91937427, -0.20871211, -1.2303768 ,  0.24466832,\n",
              "       -0.80078087, -0.88747593,  0.83057088,  1.06894504,  1.08379395])"
            ]
          },
          "metadata": {
            "tags": []
          },
          "execution_count": 25
        }
      ]
    },
    {
      "cell_type": "code",
      "metadata": {
        "id": "tnDYI3WNg24c"
      },
      "source": [
        "import matplotlib"
      ],
      "execution_count": null,
      "outputs": []
    },
    {
      "cell_type": "code",
      "metadata": {
        "id": "hLoo8OEuhSJ5"
      },
      "source": [
        "import matplotlib.pyplot as plt"
      ],
      "execution_count": 27,
      "outputs": []
    },
    {
      "cell_type": "code",
      "metadata": {
        "id": "cy7oCVHLhUhW"
      },
      "source": [
        "from matlpotlib import pyplot"
      ],
      "execution_count": null,
      "outputs": []
    },
    {
      "cell_type": "code",
      "metadata": {
        "id": "a31GqDkRhWRl"
      },
      "source": [
        "from matplotlib.pyplot import hist"
      ],
      "execution_count": null,
      "outputs": []
    }
  ]
}