{
  "nbformat": 4,
  "nbformat_minor": 0,
  "metadata": {
    "colab": {
      "name": "test.ipynb",
      "provenance": [],
      "authorship_tag": "ABX9TyNbHYb/9dPxndGrcF46PJdZ",
      "include_colab_link": true
    },
    "kernelspec": {
      "name": "python3",
      "display_name": "Python 3"
    }
  },
  "cells": [
    {
      "cell_type": "markdown",
      "metadata": {
        "id": "view-in-github",
        "colab_type": "text"
      },
      "source": [
        "<a href=\"https://colab.research.google.com/github/gejiela12/class2021Spring/blob/main/test.ipynb\" target=\"_parent\"><img src=\"https://colab.research.google.com/assets/colab-badge.svg\" alt=\"Open In Colab\"/></a>"
      ]
    },
    {
      "cell_type": "code",
      "metadata": {
        "colab": {
          "base_uri": "https://localhost:8080/",
          "height": 0
        },
        "id": "iJFNXA66WVdq",
        "outputId": "061b1054-c112-48df-9e3b-5b3211474bec"
      },
      "source": [
        "a = 1\r\n",
        "a "
      ],
      "execution_count": 3,
      "outputs": [
        {
          "output_type": "execute_result",
          "data": {
            "text/plain": [
              "1"
            ]
          },
          "metadata": {
            "tags": []
          },
          "execution_count": 3
        }
      ]
    },
    {
      "cell_type": "code",
      "metadata": {
        "colab": {
          "base_uri": "https://localhost:8080/",
          "height": 0
        },
        "id": "8TH4sDqVT4Tg",
        "outputId": "280233c3-33dd-40a2-f933-9fe265afc6e3"
      },
      "source": [
        "a = 1\r\n",
        "b = 1\r\n",
        "c = a + b\r\n",
        "c\r\n"
      ],
      "execution_count": 2,
      "outputs": [
        {
          "output_type": "execute_result",
          "data": {
            "text/plain": [
              "2"
            ]
          },
          "metadata": {
            "tags": []
          },
          "execution_count": 2
        }
      ]
    },
    {
      "cell_type": "markdown",
      "metadata": {
        "id": "Py2H6EzcWGZb"
      },
      "source": [
        "우리는 파이썬을 배우게 됩니다."
      ]
    },
    {
      "cell_type": "markdown",
      "metadata": {
        "id": "Fg7F68NnWI-8"
      },
      "source": [
        "# 파이썬을 어디서 배우나요\r\n",
        "### Jump to python"
      ]
    },
    {
      "cell_type": "code",
      "metadata": {
        "id": "P76usBBCVwSi"
      },
      "source": [
        ""
      ],
      "execution_count": null,
      "outputs": []
    },
    {
      "cell_type": "markdown",
      "metadata": {
        "id": "dp0ujdnRUD_j"
      },
      "source": [
        "# 20210308\r\n",
        "## github 계정 만들기, login 해서 repository 만들기(class2021Spring)\r\n",
        "\r\n",
        "1. python\r\n",
        "2. markdown (텍스트 편집)\r\n",
        "\r\n"
      ]
    }
  ]
}