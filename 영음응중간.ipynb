{
  "nbformat": 4,
  "nbformat_minor": 0,
  "metadata": {
    "colab": {
      "name": "영음응중간.ipynb",
      "provenance": [],
      "collapsed_sections": [],
      "authorship_tag": "ABX9TyP4Aqyd0Q/CggYs/rTAoOBU",
      "include_colab_link": true
    },
    "kernelspec": {
      "name": "python3",
      "display_name": "Python 3"
    },
    "language_info": {
      "name": "python"
    }
  },
  "cells": [
    {
      "cell_type": "markdown",
      "metadata": {
        "id": "view-in-github",
        "colab_type": "text"
      },
      "source": [
        "<a href=\"https://colab.research.google.com/github/gejiela12/class2021Spring/blob/main/%EC%98%81%EC%9D%8C%EC%9D%91%EC%A4%91%EA%B0%84.ipynb\" target=\"_parent\"><img src=\"https://colab.research.google.com/assets/colab-badge.svg\" alt=\"Open In Colab\"/></a>"
      ]
    },
    {
      "cell_type": "markdown",
      "metadata": {
        "id": "tyTJCopngy1C"
      },
      "source": [
        "# 오픈북!!임!! 책, colab 사용 가능"
      ]
    },
    {
      "cell_type": "markdown",
      "metadata": {
        "id": "Ry_ZC4xEgVU3"
      },
      "source": [
        "#variables"
      ]
    },
    {
      "cell_type": "code",
      "metadata": {
        "id": "AE51pYxoeHP-"
      },
      "source": [
        "# 함수 형태 설명, 변수가 무엇인지, 함수가 무엇인지\n",
        "#  eg: a =1; print(type(a)) -> type함수와 print함수 두개 쓰임임"
      ],
      "execution_count": 1,
      "outputs": []
    },
    {
      "cell_type": "code",
      "metadata": {
        "id": "A1uYNhtPe2vO"
      },
      "source": [
        "# 리스트 관련 시험문제 많이 나옴\n",
        "# 리스트 속 리스트\n",
        "# eg: a = [1, '2', [3, '4']] print(a[2][1][1])  => '41'?\n"
      ],
      "execution_count": null,
      "outputs": []
    },
    {
      "cell_type": "markdown",
      "metadata": {
        "id": "rCe4pbeEgaTK"
      },
      "source": [
        "# string"
      ]
    },
    {
      "cell_type": "code",
      "metadata": {
        "id": "Ej0qqji8gcaM"
      },
      "source": [
        "# 인덱싱/슬래싱 기억!\n",
        "# colab 사용 가능! \n",
        "# split 함수 중요! (token들로 끊어주는 tokenize 기능함 인덱싱/슬래싱 기억!\n",
        "# colab 사용 가능! \n",
        "# split 함수 중요! (token들로 끊어주는 tokenize 기능함)"
      ],
      "execution_count": null,
      "outputs": []
    },
    {
      "cell_type": "markdown",
      "metadata": {
        "id": "ozhResdBhy0s"
      },
      "source": [
        "#function 함수\n"
      ]
    },
    {
      "cell_type": "code",
      "metadata": {
        "id": "iUs1ikxqh25M"
      },
      "source": [
        "def add(a,b): # 함수 정의하면 반드시 출력할 필요 없음 다만 출력하고 싶으면 return \n",
        "  return a+b # 출력값 return\n",
        "# 함수 정의 방법! "
      ],
      "execution_count": null,
      "outputs": []
    },
    {
      "cell_type": "markdown",
      "metadata": {
        "id": "5GJ-WMKLiWQl"
      },
      "source": [
        "#syntax (for, if/else, for중첩, for안에 in , list 안에 for) -> 숙지!! 시험문제 남"
      ]
    },
    {
      "cell_type": "code",
      "metadata": {
        "id": "kAwnuDwFinOM"
      },
      "source": [
        "# for\n",
        "# for in range\n",
        "# for list\n",
        "# enumerate/zip 안 함\n",
        "# if 일 때 논리연산자 기호 써야됨!!!(==, <=. >=)\n",
        "# for 중첩 사용용\n",
        "# 마지막 두 문제 숙지!!!(파이썬에서만 있는 방식이라서!)"
      ],
      "execution_count": null,
      "outputs": []
    },
    {
      "cell_type": "markdown",
      "metadata": {
        "id": "LXAtxVq1jXAe"
      },
      "source": [
        "#jypyter notebook introduction\n"
      ]
    },
    {
      "cell_type": "code",
      "metadata": {
        "id": "fjA1pnK6kM1H"
      },
      "source": [
        "# jupyter notebook이란\n",
        "# colab\n",
        "# markdown\n",
        "# github(저장장소, 코드 위주)\n",
        "# python"
      ],
      "execution_count": null,
      "outputs": []
    }
  ]
}