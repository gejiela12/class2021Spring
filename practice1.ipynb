{
  "nbformat": 4,
  "nbformat_minor": 0,
  "metadata": {
    "colab": {
      "name": "practice1.ipynb",
      "provenance": [],
      "authorship_tag": "ABX9TyNZ4EdhJKd4V9d94Iq9BI0J",
      "include_colab_link": true
    },
    "kernelspec": {
      "name": "python3",
      "display_name": "Python 3"
    },
    "language_info": {
      "name": "python"
    }
  },
  "cells": [
    {
      "cell_type": "markdown",
      "metadata": {
        "id": "view-in-github",
        "colab_type": "text"
      },
      "source": [
        "<a href=\"https://colab.research.google.com/github/gejiela12/class2021Spring/blob/main/practice1.ipynb\" target=\"_parent\"><img src=\"https://colab.research.google.com/assets/colab-badge.svg\" alt=\"Open In Colab\"/></a>"
      ]
    },
    {
      "cell_type": "code",
      "metadata": {
        "id": "qKBkkTyPVoyu"
      },
      "source": [
        "def func1(x,a,b):\n",
        "  y = a*x**2+b\n",
        "  return y\n"
      ],
      "execution_count": 1,
      "outputs": []
    },
    {
      "cell_type": "code",
      "metadata": {
        "colab": {
          "base_uri": "https://localhost:8080/"
        },
        "id": "6HbnC4kkV1m5",
        "outputId": "63e623b2-6bb4-4eaa-ee0d-f619c26fd57c"
      },
      "source": [
        "func1(1,2,3)"
      ],
      "execution_count": 2,
      "outputs": [
        {
          "output_type": "execute_result",
          "data": {
            "text/plain": [
              "5"
            ]
          },
          "metadata": {
            "tags": []
          },
          "execution_count": 2
        }
      ]
    },
    {
      "cell_type": "code",
      "metadata": {
        "colab": {
          "base_uri": "https://localhost:8080/"
        },
        "id": "Tu4rcjn2WKWc",
        "outputId": "780a6157-dba8-4688-e861-4ba21c6a7383"
      },
      "source": [
        "def func2 (x,a,b,c):\n",
        "  y = a*x**2+b*x+c\n",
        "  return y\n",
        "\n",
        "d = func2(3,4,5,-6)\n",
        "d"
      ],
      "execution_count": 4,
      "outputs": [
        {
          "output_type": "execute_result",
          "data": {
            "text/plain": [
              "45"
            ]
          },
          "metadata": {
            "tags": []
          },
          "execution_count": 4
        }
      ]
    },
    {
      "cell_type": "code",
      "metadata": {
        "colab": {
          "base_uri": "https://localhost:8080/"
        },
        "id": "55jA9rrZW-mZ",
        "outputId": "da361137-84e6-4b11-e04a-49289ff62b22"
      },
      "source": [
        "import math\n",
        "math.pi"
      ],
      "execution_count": 9,
      "outputs": [
        {
          "output_type": "execute_result",
          "data": {
            "text/plain": [
              "3.141592653589793"
            ]
          },
          "metadata": {
            "tags": []
          },
          "execution_count": 9
        }
      ]
    },
    {
      "cell_type": "code",
      "metadata": {
        "colab": {
          "base_uri": "https://localhost:8080/"
        },
        "id": "QsXlP71VZVP2",
        "outputId": "f86ba854-e7d8-4157-f7a5-042dfe627802"
      },
      "source": [
        "import calendar\n",
        "calendar.prmonth(2021,3)"
      ],
      "execution_count": 17,
      "outputs": [
        {
          "output_type": "stream",
          "text": [
            "     March 2021\n",
            "Mo Tu We Th Fr Sa Su\n",
            " 1  2  3  4  5  6  7\n",
            " 8  9 10 11 12 13 14\n",
            "15 16 17 18 19 20 21\n",
            "22 23 24 25 26 27 28\n",
            "29 30 31\n"
          ],
          "name": "stdout"
        }
      ]
    },
    {
      "cell_type": "code",
      "metadata": {
        "colab": {
          "base_uri": "https://localhost:8080/"
        },
        "id": "P6dWgQSlaht8",
        "outputId": "7e8900b0-fc9f-4107-f042-5996a8f0f908"
      },
      "source": [
        "import numpy as np\n",
        "n = np.random.randn(5)\n",
        "n"
      ],
      "execution_count": 18,
      "outputs": [
        {
          "output_type": "execute_result",
          "data": {
            "text/plain": [
              "array([ 0.56643959, -0.78136113, -1.39452715, -0.25776811, -0.34474513])"
            ]
          },
          "metadata": {
            "tags": []
          },
          "execution_count": 18
        }
      ]
    },
    {
      "cell_type": "code",
      "metadata": {
        "id": "5lu5VL-Mam0S"
      },
      "source": [
        "import matplotlib"
      ],
      "execution_count": 19,
      "outputs": []
    },
    {
      "cell_type": "code",
      "metadata": {
        "id": "BJ-5IJeTarU3"
      },
      "source": [
        "class cal: \n",
        "  def __init__(self):\n",
        "    self.result = 0\n",
        "  def add(self, n):\n",
        "    self.result +=n\n",
        "    return self.result"
      ],
      "execution_count": 21,
      "outputs": []
    },
    {
      "cell_type": "code",
      "metadata": {
        "colab": {
          "base_uri": "https://localhost:8080/"
        },
        "id": "5TpNOnjcbCEd",
        "outputId": "21c52b68-cf78-47cc-8f4b-65cbe76f9339"
      },
      "source": [
        "a = cal()\n",
        "a.result"
      ],
      "execution_count": 23,
      "outputs": [
        {
          "output_type": "execute_result",
          "data": {
            "text/plain": [
              "0"
            ]
          },
          "metadata": {
            "tags": []
          },
          "execution_count": 23
        }
      ]
    },
    {
      "cell_type": "code",
      "metadata": {
        "colab": {
          "base_uri": "https://localhost:8080/"
        },
        "id": "_5EaSXz6bIOl",
        "outputId": "1e9acce0-9c8f-4670-c74a-6bf4d32194d7"
      },
      "source": [
        "a.add(3)"
      ],
      "execution_count": 24,
      "outputs": [
        {
          "output_type": "execute_result",
          "data": {
            "text/plain": [
              "3"
            ]
          },
          "metadata": {
            "tags": []
          },
          "execution_count": 24
        }
      ]
    },
    {
      "cell_type": "code",
      "metadata": {
        "colab": {
          "base_uri": "https://localhost:8080/"
        },
        "id": "YneSP18abNq-",
        "outputId": "237f741e-72df-4986-a455-5329b88ef8bb"
      },
      "source": [
        "a.add(20)"
      ],
      "execution_count": 25,
      "outputs": [
        {
          "output_type": "execute_result",
          "data": {
            "text/plain": [
              "23"
            ]
          },
          "metadata": {
            "tags": []
          },
          "execution_count": 25
        }
      ]
    },
    {
      "cell_type": "code",
      "metadata": {
        "id": "fz-Hd2qGbPl8"
      },
      "source": [
        ""
      ],
      "execution_count": null,
      "outputs": []
    }
  ]
}